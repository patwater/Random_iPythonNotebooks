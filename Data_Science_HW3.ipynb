{
 "metadata": {
  "name": "",
  "signature": "sha256:dcf1054046e4e9a565caad55dea04c43602ff3444881af79a50efa7f445c8522"
 },
 "nbformat": 3,
 "nbformat_minor": 0,
 "worksheets": [
  {
   "cells": [
    {
     "cell_type": "heading",
     "level": 1,
     "metadata": {},
     "source": [
      "Problem 1"
     ]
    },
    {
     "cell_type": "code",
     "collapsed": false,
     "input": [
      "import math\n",
      "import random\n",
      "import pandas as pd\n",
      "import numpy as np\n",
      "import statsmodels.api as sm\n",
      "from matplotlib import pyplot as plt\n",
      "%matplotlib inline"
     ],
     "language": "python",
     "metadata": {},
     "outputs": [],
     "prompt_number": 4
    },
    {
     "cell_type": "code",
     "collapsed": false,
     "input": [
      "gril = pd.read_stata('griliches.dta')"
     ],
     "language": "python",
     "metadata": {},
     "outputs": [],
     "prompt_number": 5
    },
    {
     "cell_type": "heading",
     "level": 5,
     "metadata": {},
     "source": [
      "1b"
     ]
    },
    {
     "cell_type": "code",
     "collapsed": false,
     "input": [
      "bVariableList = ['rns','mrt', 'smsa','med','iq','kww','age','s','expr','lw']\n",
      "\n",
      "for var in bVariableList:\n",
      "    print str(var)+\" summary\"\n",
      "    print gril[var].describe()\n",
      "    print \" \""
     ],
     "language": "python",
     "metadata": {},
     "outputs": [
      {
       "output_type": "stream",
       "stream": "stdout",
       "text": [
        "rns summary\n",
        "count    758.000000\n",
        "mean       0.269129\n",
        "std        0.443800\n",
        "min        0.000000\n",
        "25%        0.000000\n",
        "50%        0.000000\n",
        "75%        1.000000\n",
        "max        1.000000\n",
        "dtype: float64\n",
        " \n",
        "mrt summary\n",
        "count    758.000000\n",
        "mean       0.514512\n",
        "std        0.500119\n",
        "min        0.000000\n",
        "25%        0.000000\n",
        "50%        1.000000\n",
        "75%        1.000000\n",
        "max        1.000000\n",
        "dtype: float64\n",
        " \n",
        "smsa summary\n",
        "count    758.000000\n",
        "mean       0.704485\n",
        "std        0.456575\n",
        "min        0.000000\n",
        "25%        0.000000\n",
        "50%        1.000000\n",
        "75%        1.000000\n",
        "max        1.000000\n",
        "dtype: float64\n",
        " \n",
        "med summary\n",
        "count    758.00000\n",
        "mean      10.91029\n",
        "std        2.74112\n",
        "min        0.00000\n",
        "25%        9.00000\n",
        "50%       12.00000\n",
        "75%       12.00000\n",
        "max       18.00000\n",
        "dtype: float64\n",
        " \n",
        "iq summary\n",
        "count    758.000000\n",
        "mean     103.856201\n",
        "std       13.618666\n",
        "min       54.000000\n",
        "25%       95.250000\n",
        "50%      104.000000\n",
        "75%      113.750000\n",
        "max      145.000000\n",
        "dtype: float64\n",
        " \n",
        "kww summary\n",
        "count    758.000000\n",
        "mean      36.573879\n",
        "std        7.302247\n",
        "min       12.000000\n",
        "25%       32.000000\n",
        "50%       37.000000\n",
        "75%       41.000000\n",
        "max       56.000000\n",
        "dtype: float64\n",
        " \n",
        "age summary\n",
        "count    758.000000\n",
        "mean      21.835092\n",
        "std        2.981756\n",
        "min       16.000000\n",
        "25%       20.000000\n",
        "50%       22.000000\n",
        "75%       24.000000\n",
        "max       30.000000\n",
        "dtype: float64\n",
        " \n",
        "s summary\n",
        "count    758.000000\n",
        "mean      13.405013\n",
        "std        2.231828\n",
        "min        9.000000\n",
        "25%       12.000000\n",
        "50%       12.000000\n",
        "75%       16.000000\n",
        "max       18.000000\n",
        "dtype: float64"
       ]
      },
      {
       "output_type": "stream",
       "stream": "stdout",
       "text": [
        "\n",
        " \n",
        "expr summary\n",
        "count    758.000000\n",
        "mean       1.735429\n",
        "std        2.105542\n",
        "min        0.000000\n",
        "25%        0.281500\n",
        "50%        0.960000\n",
        "75%        2.440000\n",
        "max       11.444000\n",
        "dtype: float64\n",
        " \n",
        "lw summary\n",
        "count    758.000000\n",
        "mean       5.686739\n",
        "std        0.428949\n",
        "min        4.605000\n",
        "25%        5.380000\n",
        "50%        5.684000\n",
        "75%        5.991000\n",
        "max        7.051000\n",
        "dtype: float64\n",
        " \n"
       ]
      }
     ],
     "prompt_number": 6
    },
    {
     "cell_type": "heading",
     "level": 5,
     "metadata": {},
     "source": [
      "1c"
     ]
    },
    {
     "cell_type": "code",
     "collapsed": false,
     "input": [
      "pd.options.display.mpl_style = 'default'\n",
      "\n",
      "cVariableList = ['rns','mrt','smsa','kww','expr']\n",
      "\n",
      "for var in cVariableList:\n",
      "    gril.plot(x=var,y='lw', kind = 'scatter')"
     ],
     "language": "python",
     "metadata": {},
     "outputs": [
      {
       "metadata": {},
       "output_type": "display_data",
       "png": "[encoded data removed]",
       "text": [
        "<matplotlib.figure.Figure at 0x9fda048>"
       ]
      },
      {
       "metadata": {},
       "output_type": "display_data",
       "png": "[encoded data removed]",
       "text": [
        "<matplotlib.figure.Figure at 0x3708128>"
       ]
      },
      {
       "metadata": {},
       "output_type": "display_data",
       "png": "[encoded data removed]",
       "text": [
        "<matplotlib.figure.Figure at 0x14ff2f98>"
       ]
      },
      {
       "metadata": {},
       "output_type": "display_data",
       "png": "[encoded data removed]",
       "text": [
        "<matplotlib.figure.Figure at 0x15179a20>"
       ]
      },
      {
       "metadata": {},
       "output_type": "display_data",
       "png": "[encoded data removed]",
       "text": [
        "<matplotlib.figure.Figure at 0x1528b6a0>"
       ]
      }
     ],
     "prompt_number": 7
    },
    {
     "cell_type": "heading",
     "level": 5,
     "metadata": {},
     "source": [
      "1d"
     ]
    },
    {
     "cell_type": "code",
     "collapsed": false,
     "input": [
      "y = gril['lw'].tolist()\n",
      "xi = {}\n",
      "\n",
      "for var in cVariableList:\n",
      "    xi[var] = gril[var].tolist()\n",
      "    xi[var] = sm.add_constant(xi[var])"
     ],
     "language": "python",
     "metadata": {},
     "outputs": [],
     "prompt_number": 8
    },
    {
     "cell_type": "code",
     "collapsed": false,
     "input": [
      "for var in cVariableList:\n",
      "    model = sm.OLS(y,xi[var])\n",
      "    result = model.fit()\n",
      "    \n",
      "    print \"Bivariate model of LW with \" + str(var) + \" as the dependent variable\"\n",
      "    print result.summary()"
     ],
     "language": "python",
     "metadata": {},
     "outputs": [
      {
       "output_type": "stream",
       "stream": "stdout",
       "text": [
        "Bivariate model of LW with rns as the dependent variable\n",
        "                            OLS Regression Results                            \n",
        "==============================================================================\n",
        "Dep. Variable:                      y   R-squared:                       0.022\n",
        "Model:                            OLS   Adj. R-squared:                  0.021\n",
        "Method:                 Least Squares   F-statistic:                     17.30\n",
        "Date:                Fri, 26 Sep 2014   Prob (F-statistic):           3.56e-05\n",
        "Time:                        15:37:19   Log-Likelihood:                -424.90\n",
        "No. Observations:                 758   AIC:                             853.8\n",
        "Df Residuals:                     756   BIC:                             863.1\n",
        "Df Model:                           1                                         \n",
        "==============================================================================\n",
        "                 coef    std err          t      P>|t|      [95.0% Conf. Int.]\n",
        "------------------------------------------------------------------------------\n",
        "const          5.7256      0.018    317.540      0.000         5.690     5.761\n",
        "x1            -0.1446      0.035     -4.159      0.000        -0.213    -0.076\n",
        "==============================================================================\n",
        "Omnibus:                        7.316   Durbin-Watson:                   1.734\n",
        "Prob(Omnibus):                  0.026   Jarque-Bera (JB):                7.370\n",
        "Skew:                           0.223   Prob(JB):                       0.0251\n",
        "Kurtosis:                       2.817   Cond. No.                         2.45\n",
        "=============================================================================="
       ]
      },
      {
       "output_type": "stream",
       "stream": "stdout",
       "text": [
        "\n",
        "Bivariate model of LW with mrt as the dependent variable\n",
        "                            OLS Regression Results                            \n",
        "==============================================================================\n",
        "Dep. Variable:                      y   R-squared:                       0.089\n",
        "Model:                            OLS   Adj. R-squared:                  0.088\n",
        "Method:                 Least Squares   F-statistic:                     73.70\n",
        "Date:                Fri, 26 Sep 2014   Prob (F-statistic):           5.14e-17\n",
        "Time:                        15:37:20   Log-Likelihood:                -398.22\n",
        "No. Observations:                 758   AIC:                             800.4\n",
        "Df Residuals:                     756   BIC:                             809.7\n",
        "Df Model:                           1                                         \n",
        "==============================================================================\n",
        "                 coef    std err          t      P>|t|      [95.0% Conf. Int.]\n",
        "------------------------------------------------------------------------------\n",
        "const          5.5552      0.021    260.095      0.000         5.513     5.597\n",
        "x1             0.2556      0.030      8.585      0.000         0.197     0.314\n",
        "==============================================================================\n",
        "Omnibus:                        3.526   Durbin-Watson:                   1.667\n",
        "Prob(Omnibus):                  0.172   Jarque-Bera (JB):                3.192\n",
        "Skew:                           0.092   Prob(JB):                        0.203\n",
        "Kurtosis:                       2.741   Cond. No.                         2.65\n",
        "=============================================================================="
       ]
      },
      {
       "output_type": "stream",
       "stream": "stdout",
       "text": [
        "\n",
        "Bivariate model of LW with smsa as the dependent variable\n",
        "                            OLS Regression Results                            \n",
        "==============================================================================\n",
        "Dep. Variable:                      y   R-squared:                       0.046\n",
        "Model:                            OLS   Adj. R-squared:                  0.045\n",
        "Method:                 Least Squares   F-statistic:                     36.85\n",
        "Date:                Fri, 26 Sep 2014   Prob (F-statistic):           2.02e-09\n",
        "Time:                        15:37:20   Log-Likelihood:                -415.43\n",
        "No. Observations:                 758   AIC:                             834.9\n",
        "Df Residuals:                     756   BIC:                             844.1\n",
        "Df Model:                           1                                         \n",
        "==============================================================================\n",
        "                 coef    std err          t      P>|t|      [95.0% Conf. Int.]\n",
        "------------------------------------------------------------------------------\n",
        "const          5.5441      0.028    197.967      0.000         5.489     5.599\n",
        "x1             0.2025      0.033      6.070      0.000         0.137     0.268\n",
        "==============================================================================\n",
        "Omnibus:                        5.469   Durbin-Watson:                   1.766\n",
        "Prob(Omnibus):                  0.065   Jarque-Bera (JB):                5.357\n",
        "Skew:                           0.174   Prob(JB):                       0.0687\n",
        "Kurtosis:                       2.781   Cond. No.                         3.45\n",
        "=============================================================================="
       ]
      },
      {
       "output_type": "stream",
       "stream": "stdout",
       "text": [
        "\n",
        "Bivariate model of LW with kww as the dependent variable\n",
        "                            OLS Regression Results                            \n",
        "==============================================================================\n",
        "Dep. Variable:                      y   R-squared:                       0.102\n",
        "Model:                            OLS   Adj. R-squared:                  0.101\n",
        "Method:                 Least Squares   F-statistic:                     85.91\n",
        "Date:                Fri, 26 Sep 2014   Prob (F-statistic):           1.93e-19\n",
        "Time:                        15:37:20   Log-Likelihood:                -392.68\n",
        "No. Observations:                 758   AIC:                             789.4\n",
        "Df Residuals:                     756   BIC:                             798.6\n",
        "Df Model:                           1                                         \n",
        "==============================================================================\n",
        "                 coef    std err          t      P>|t|      [95.0% Conf. Int.]\n",
        "------------------------------------------------------------------------------\n",
        "const          5.0005      0.076     66.228      0.000         4.852     5.149\n",
        "x1             0.0188      0.002      9.269      0.000         0.015     0.023\n",
        "==============================================================================\n",
        "Omnibus:                        4.135   Durbin-Watson:                   1.731\n",
        "Prob(Omnibus):                  0.126   Jarque-Bera (JB):                3.864\n",
        "Skew:                           0.123   Prob(JB):                        0.145\n",
        "Kurtosis:                       2.752   Cond. No.                         191.\n",
        "=============================================================================="
       ]
      },
      {
       "output_type": "stream",
       "stream": "stdout",
       "text": [
        "\n",
        "Bivariate model of LW with expr as the dependent variable\n",
        "                            OLS Regression Results                            \n",
        "==============================================================================\n",
        "Dep. Variable:                      y   R-squared:                       0.007\n",
        "Model:                            OLS   Adj. R-squared:                  0.006\n",
        "Method:                 Least Squares   F-statistic:                     5.452\n",
        "Date:                Fri, 26 Sep 2014   Prob (F-statistic):             0.0198\n",
        "Time:                        15:37:20   Log-Likelihood:                -430.75\n",
        "No. Observations:                 758   AIC:                             865.5\n",
        "Df Residuals:                     756   BIC:                             874.8\n",
        "Df Model:                           1                                         \n",
        "==============================================================================\n",
        "                 coef    std err          t      P>|t|      [95.0% Conf. Int.]\n",
        "------------------------------------------------------------------------------\n",
        "const          5.6568      0.020    280.924      0.000         5.617     5.696\n",
        "x1             0.0172      0.007      2.335      0.020         0.003     0.032\n",
        "==============================================================================\n",
        "Omnibus:                        7.070   Durbin-Watson:                   1.673\n",
        "Prob(Omnibus):                  0.029   Jarque-Bera (JB):                6.678\n",
        "Skew:                           0.187   Prob(JB):                       0.0355\n",
        "Kurtosis:                       2.733   Cond. No.                         3.74\n",
        "=============================================================================="
       ]
      },
      {
       "output_type": "stream",
       "stream": "stdout",
       "text": [
        "\n"
       ]
      }
     ],
     "prompt_number": 9
    },
    {
     "cell_type": "markdown",
     "metadata": {},
     "source": [
      "Discussion of regression results:\n",
      "\n",
      "-Southern residency is negative -- this aligns with my intuition that per capita incomes are lower in the South than the national average.\n",
      "\n",
      "-Marital status is positive (meaning a positive return to marriage) -- this aligns with my intuition that married households earn more \n",
      "\n",
      "-SMSA is positive which aligns with my intuition (and Steve Glaesser's point repeated again and again in triumph of the city) \n",
      "\n",
      "-Work experience in years is positive and aligns with my intuition that experienced workers cost more"
     ]
    },
    {
     "cell_type": "heading",
     "level": 5,
     "metadata": {},
     "source": [
      "1e"
     ]
    },
    {
     "cell_type": "code",
     "collapsed": false,
     "input": [
      "xi['s'] = gril['s'].tolist()\n",
      "xi['s'] = sm.add_constant(xi['s'])"
     ],
     "language": "python",
     "metadata": {},
     "outputs": [],
     "prompt_number": 10
    },
    {
     "cell_type": "code",
     "collapsed": false,
     "input": [
      "model = sm.OLS(y,xi['s'])\n",
      "result = model.fit()\n",
      "    \n",
      "print \"Bivariate model of LW with schooling as the dependent variable\"\n",
      "print result.summary()"
     ],
     "language": "python",
     "metadata": {},
     "outputs": [
      {
       "output_type": "stream",
       "stream": "stdout",
       "text": [
        "Bivariate model of LW with schooling as the dependent variable\n",
        "                            OLS Regression Results                            \n",
        "==============================================================================\n",
        "Dep. Variable:                      y   R-squared:                       0.253\n",
        "Model:                            OLS   Adj. R-squared:                  0.252\n",
        "Method:                 Least Squares   F-statistic:                     255.7\n",
        "Date:                Fri, 26 Sep 2014   Prob (F-statistic):           8.52e-50\n",
        "Time:                        15:37:20   Log-Likelihood:                -323.05\n",
        "No. Observations:                 758   AIC:                             650.1\n",
        "Df Residuals:                     756   BIC:                             659.4\n",
        "Df Model:                           1                                         \n",
        "==============================================================================\n",
        "                 coef    std err          t      P>|t|      [95.0% Conf. Int.]\n",
        "------------------------------------------------------------------------------\n",
        "const          4.3915      0.082     53.481      0.000         4.230     4.553\n",
        "x1             0.0966      0.006     15.991      0.000         0.085     0.108\n",
        "==============================================================================\n",
        "Omnibus:                        1.749   Durbin-Watson:                   1.733\n",
        "Prob(Omnibus):                  0.417   Jarque-Bera (JB):                1.697\n",
        "Skew:                           0.021   Prob(JB):                        0.428\n",
        "Kurtosis:                       3.228   Cond. No.                         83.2\n",
        "=============================================================================="
       ]
      },
      {
       "output_type": "stream",
       "stream": "stdout",
       "text": [
        "\n"
       ]
      }
     ],
     "prompt_number": 11
    },
    {
     "cell_type": "markdown",
     "metadata": {},
     "source": [
      "Per the summary table able, the 95% confidence interval for the regression coefficient of the schooling variable is 0.085 to 0.108. "
     ]
    },
    {
     "cell_type": "heading",
     "level": 5,
     "metadata": {},
     "source": [
      "1f"
     ]
    },
    {
     "cell_type": "code",
     "collapsed": false,
     "input": [
      "model = sm.OLS(y,sm.add_constant(gril[['rns','mrt', 'smsa','med','iq','kww','age','s','expr']]))\n",
      "result = model.fit()\n",
      "    \n",
      "print \"Bivariate model of LW with schooling and other 1b variables as the dependent variables\"\n",
      "print result.summary()"
     ],
     "language": "python",
     "metadata": {},
     "outputs": [
      {
       "output_type": "stream",
       "stream": "stdout",
       "text": [
        "Bivariate model of LW with schooling and other 1b variables as the dependent variables\n",
        "                            OLS Regression Results                            \n",
        "==============================================================================\n",
        "Dep. Variable:                      y   R-squared:                       0.433\n",
        "Model:                            OLS   Adj. R-squared:                  0.426\n",
        "Method:                 Least Squares   F-statistic:                     63.38\n",
        "Date:                Fri, 26 Sep 2014   Prob (F-statistic):           4.21e-86\n",
        "Time:                        15:37:20   Log-Likelihood:                -218.67\n",
        "No. Observations:                 758   AIC:                             457.3\n",
        "Df Residuals:                     748   BIC:                             503.6\n",
        "Df Model:                           9                                         \n",
        "==============================================================================\n",
        "                 coef    std err          t      P>|t|      [95.0% Conf. Int.]\n",
        "------------------------------------------------------------------------------\n",
        "const          3.4149      0.123     27.838      0.000         3.174     3.656\n",
        "rns           -0.0877      0.027     -3.204      0.001        -0.142    -0.034\n",
        "mrt            0.1007      0.027      3.716      0.000         0.047     0.154\n",
        "smsa           0.1368      0.027      5.144      0.000         0.085     0.189\n",
        "med            0.0059      0.005      1.258      0.209        -0.003     0.015\n",
        "iq             0.0042      0.001      3.998      0.000         0.002     0.006\n",
        "kww           -0.0023      0.002     -1.174      0.241        -0.006     0.002\n",
        "age            0.0497      0.006      8.342      0.000         0.038     0.061\n",
        "s              0.0479      0.008      6.159      0.000         0.033     0.063\n",
        "expr           0.0022      0.007      0.310      0.757        -0.012     0.016\n",
        "==============================================================================\n",
        "Omnibus:                       12.122   Durbin-Watson:                   1.798\n",
        "Prob(Omnibus):                  0.002   Jarque-Bera (JB):               18.748\n",
        "Skew:                          -0.104   Prob(JB):                     8.49e-05\n",
        "Kurtosis:                       3.742   Cond. No.                     1.19e+03\n",
        "==============================================================================\n",
        "\n",
        "Warnings:\n",
        "[1] The condition number is large, 1.19e+03. This might indicate that there are\n",
        "strong multicollinearity or other numerical problems."
       ]
      },
      {
       "output_type": "stream",
       "stream": "stdout",
       "text": [
        "\n"
       ]
      }
     ],
     "prompt_number": 12
    },
    {
     "cell_type": "markdown",
     "metadata": {},
     "source": [
      "Per the summary table above, the 95% confidence interval for the regression coefficient of the schooling variable is 0.033 to 0.068. "
     ]
    },
    {
     "cell_type": "heading",
     "level": 5,
     "metadata": {},
     "source": [
      "1g"
     ]
    },
    {
     "cell_type": "code",
     "collapsed": false,
     "input": [
      "ageList = gril['age'].tolist()\n",
      "ageList2 = []\n",
      "for age in ageList:\n",
      "    ageList2.append(age**2)\n",
      "\n",
      "gril['age2'] = ageList2"
     ],
     "language": "python",
     "metadata": {},
     "outputs": [],
     "prompt_number": 13
    },
    {
     "cell_type": "code",
     "collapsed": false,
     "input": [
      "model = sm.OLS(y,sm.add_constant(gril[['rns','mrt', 'smsa','med','iq','kww','age','s','expr','age2']]))\n",
      "result = model.fit()\n",
      "    \n",
      "print \"Bivariate model of LW with schooling and other 1b variables (including age**2) as the dependent variables\"\n",
      "print result.summary()"
     ],
     "language": "python",
     "metadata": {},
     "outputs": [
      {
       "output_type": "stream",
       "stream": "stdout",
       "text": [
        "Bivariate model of LW with schooling and other 1b variables (including age**2) as the dependent variables\n",
        "                            OLS Regression Results                            \n",
        "==============================================================================\n",
        "Dep. Variable:                      y   R-squared:                       0.438\n",
        "Model:                            OLS   Adj. R-squared:                  0.430\n",
        "Method:                 Least Squares   F-statistic:                     58.21\n",
        "Date:                Fri, 26 Sep 2014   Prob (F-statistic):           1.06e-86\n",
        "Time:                        15:37:21   Log-Likelihood:                -215.09\n",
        "No. Observations:                 758   AIC:                             452.2\n",
        "Df Residuals:                     747   BIC:                             503.1\n",
        "Df Model:                          10                                         \n",
        "==============================================================================\n",
        "                 coef    std err          t      P>|t|      [95.0% Conf. Int.]\n",
        "------------------------------------------------------------------------------\n",
        "const          4.8628      0.557      8.728      0.000         3.769     5.957\n",
        "rns           -0.0847      0.027     -3.103      0.002        -0.138    -0.031\n",
        "mrt            0.1118      0.027      4.095      0.000         0.058     0.165\n",
        "smsa           0.1400      0.027      5.281      0.000         0.088     0.192\n",
        "med            0.0056      0.005      1.207      0.228        -0.004     0.015\n",
        "iq             0.0041      0.001      3.880      0.000         0.002     0.006\n",
        "kww           -0.0020      0.002     -1.037      0.300        -0.006     0.002\n",
        "age           -0.0838      0.050     -1.660      0.097        -0.183     0.015\n",
        "s              0.0511      0.008      6.519      0.000         0.036     0.066\n",
        "expr           0.0037      0.007      0.515      0.606        -0.010     0.018\n",
        "age2           0.0029      0.001      2.664      0.008         0.001     0.005\n",
        "==============================================================================\n",
        "Omnibus:                       14.225   Durbin-Watson:                   1.795\n",
        "Prob(Omnibus):                  0.001   Jarque-Bera (JB):               22.965\n",
        "Skew:                          -0.121   Prob(JB):                     1.03e-05\n",
        "Kurtosis:                       3.818   Cond. No.                     2.45e+04\n",
        "==============================================================================\n",
        "\n",
        "Warnings:\n",
        "[1] The condition number is large, 2.45e+04. This might indicate that there are\n",
        "strong multicollinearity or other numerical problems."
       ]
      },
      {
       "output_type": "stream",
       "stream": "stdout",
       "text": [
        "\n"
       ]
      }
     ],
     "prompt_number": 14
    },
    {
     "cell_type": "markdown",
     "metadata": {},
     "source": [
      "Interestingly age swaps signs from positive to negative."
     ]
    },
    {
     "cell_type": "heading",
     "level": 5,
     "metadata": {},
     "source": [
      "1h"
     ]
    },
    {
     "cell_type": "markdown",
     "metadata": {},
     "source": [
      "The 1f regression includes several variables which schooling would logically function as proxy for.  Years of schooling incorporates some of the \"signal\" from variables positively correlated with log wages like IQ, mothers education and age.\n",
      "\n",
      "This logic aligns with the following multicollinearity warning in the 1f regression, which we would expect given the connection between schooling and the other variables: \"[1] The condition number is large, 1.19e+03. This might indicate that there are strong multicollinearity or other numerical problems.\"\n",
      "\n",
      "Other variables might even be jointly causing schooling and log wages.  IQ could represent an individual's natural aptitude which drives their schooling decisions.  Other logics might be constructed between a mothers education (or other variables in the 1f regression) and schooling. A deeper evaluation of these relationships might begin by examining the variance-covariance matrix of the resulting coefficients as calculated below and perhaps constructing a Directed Acyclic Graph of the overall model as recommended by Judea Pearl in his book Causality."
     ]
    },
    {
     "cell_type": "code",
     "collapsed": false,
     "input": [
      "cov_data = sm.stats.sandwich_covariance.cov_white_simple(result)\n",
      "covPD = pd.DataFrame(cov_data,index = ['const','rns','mrt', 'smsa','med','iq','kww','age','s','expr','age2'])\n",
      "\n",
      "covPD"
     ],
     "language": "python",
     "metadata": {},
     "outputs": [
      {
       "html": [
        "<div style=\"max-height:1000px;max-width:1500px;overflow:auto;\">\n",
        "<table border=\"1\" class=\"dataframe\">\n",
        "  <thead>\n",
        "    <tr style=\"text-align: right;\">\n",
        "      <th></th>\n",
        "      <th>0</th>\n",
        "      <th>1</th>\n",
        "      <th>2</th>\n",
        "      <th>3</th>\n",
        "      <th>4</th>\n",
        "      <th>5</th>\n",
        "      <th>6</th>\n",
        "      <th>7</th>\n",
        "      <th>8</th>\n",
        "      <th>9</th>\n",
        "      <th>10</th>\n",
        "    </tr>\n",
        "  </thead>\n",
        "  <tbody>\n",
        "    <tr>\n",
        "      <th>const</th>\n",
        "      <td> 0.279716</td>\n",
        "      <td> 0.000810</td>\n",
        "      <td> 0.003141</td>\n",
        "      <td> 0.000121</td>\n",
        "      <td>-0.000061</td>\n",
        "      <td>-7.493930e-05</td>\n",
        "      <td> 0.000059</td>\n",
        "      <td>-0.025100</td>\n",
        "      <td> 0.000648</td>\n",
        "      <td> 0.000221</td>\n",
        "      <td> 5.437104e-04</td>\n",
        "    </tr>\n",
        "    <tr>\n",
        "      <th>rns</th>\n",
        "      <td> 0.000810</td>\n",
        "      <td> 0.000904</td>\n",
        "      <td>-0.000019</td>\n",
        "      <td> 0.000211</td>\n",
        "      <td> 0.000022</td>\n",
        "      <td> 9.203449e-06</td>\n",
        "      <td>-0.000009</td>\n",
        "      <td>-0.000198</td>\n",
        "      <td>-0.000003</td>\n",
        "      <td> 0.000008</td>\n",
        "      <td> 4.763798e-06</td>\n",
        "    </tr>\n",
        "    <tr>\n",
        "      <th>mrt</th>\n",
        "      <td> 0.003141</td>\n",
        "      <td>-0.000019</td>\n",
        "      <td> 0.000835</td>\n",
        "      <td> 0.000036</td>\n",
        "      <td>-0.000012</td>\n",
        "      <td> 3.744292e-07</td>\n",
        "      <td>-0.000001</td>\n",
        "      <td>-0.000233</td>\n",
        "      <td>-0.000004</td>\n",
        "      <td>-0.000019</td>\n",
        "      <td> 3.531054e-06</td>\n",
        "    </tr>\n",
        "    <tr>\n",
        "      <th>smsa</th>\n",
        "      <td> 0.000121</td>\n",
        "      <td> 0.000211</td>\n",
        "      <td> 0.000036</td>\n",
        "      <td> 0.000717</td>\n",
        "      <td>-0.000005</td>\n",
        "      <td> 2.502587e-06</td>\n",
        "      <td>-0.000013</td>\n",
        "      <td>-0.000029</td>\n",
        "      <td>-0.000014</td>\n",
        "      <td>-0.000017</td>\n",
        "      <td> 8.356559e-07</td>\n",
        "    </tr>\n",
        "    <tr>\n",
        "      <th>med</th>\n",
        "      <td>-0.000061</td>\n",
        "      <td> 0.000022</td>\n",
        "      <td>-0.000012</td>\n",
        "      <td>-0.000005</td>\n",
        "      <td> 0.000019</td>\n",
        "      <td>-1.188961e-07</td>\n",
        "      <td>-0.000001</td>\n",
        "      <td>-0.000003</td>\n",
        "      <td>-0.000007</td>\n",
        "      <td> 0.000002</td>\n",
        "      <td> 1.014981e-07</td>\n",
        "    </tr>\n",
        "    <tr>\n",
        "      <th>iq</th>\n",
        "      <td>-0.000075</td>\n",
        "      <td> 0.000009</td>\n",
        "      <td> 0.000000</td>\n",
        "      <td> 0.000003</td>\n",
        "      <td>-0.000000</td>\n",
        "      <td> 1.213835e-06</td>\n",
        "      <td>-0.000000</td>\n",
        "      <td>-0.000000</td>\n",
        "      <td>-0.000004</td>\n",
        "      <td>-0.000000</td>\n",
        "      <td> 3.223311e-08</td>\n",
        "    </tr>\n",
        "    <tr>\n",
        "      <th>kww</th>\n",
        "      <td> 0.000059</td>\n",
        "      <td>-0.000009</td>\n",
        "      <td>-0.000001</td>\n",
        "      <td>-0.000013</td>\n",
        "      <td>-0.000001</td>\n",
        "      <td>-4.505505e-07</td>\n",
        "      <td> 0.000004</td>\n",
        "      <td>-0.000009</td>\n",
        "      <td> 0.000000</td>\n",
        "      <td> 0.000001</td>\n",
        "      <td> 1.152469e-07</td>\n",
        "    </tr>\n",
        "    <tr>\n",
        "      <th>age</th>\n",
        "      <td>-0.025100</td>\n",
        "      <td>-0.000198</td>\n",
        "      <td>-0.000233</td>\n",
        "      <td>-0.000029</td>\n",
        "      <td>-0.000003</td>\n",
        "      <td>-2.753694e-07</td>\n",
        "      <td>-0.000009</td>\n",
        "      <td> 0.002371</td>\n",
        "      <td>-0.000076</td>\n",
        "      <td>-0.000038</td>\n",
        "      <td>-5.151982e-05</td>\n",
        "    </tr>\n",
        "    <tr>\n",
        "      <th>s</th>\n",
        "      <td> 0.000648</td>\n",
        "      <td>-0.000003</td>\n",
        "      <td>-0.000004</td>\n",
        "      <td>-0.000014</td>\n",
        "      <td>-0.000007</td>\n",
        "      <td>-3.521554e-06</td>\n",
        "      <td> 0.000000</td>\n",
        "      <td>-0.000076</td>\n",
        "      <td> 0.000062</td>\n",
        "      <td> 0.000023</td>\n",
        "      <td> 1.217821e-06</td>\n",
        "    </tr>\n",
        "    <tr>\n",
        "      <th>expr</th>\n",
        "      <td> 0.000221</td>\n",
        "      <td> 0.000008</td>\n",
        "      <td>-0.000019</td>\n",
        "      <td>-0.000017</td>\n",
        "      <td> 0.000002</td>\n",
        "      <td>-1.097111e-07</td>\n",
        "      <td> 0.000001</td>\n",
        "      <td>-0.000038</td>\n",
        "      <td> 0.000023</td>\n",
        "      <td> 0.000049</td>\n",
        "      <td> 4.141766e-07</td>\n",
        "    </tr>\n",
        "    <tr>\n",
        "      <th>age2</th>\n",
        "      <td> 0.000544</td>\n",
        "      <td> 0.000005</td>\n",
        "      <td> 0.000004</td>\n",
        "      <td> 0.000001</td>\n",
        "      <td> 0.000000</td>\n",
        "      <td> 3.223311e-08</td>\n",
        "      <td> 0.000000</td>\n",
        "      <td>-0.000052</td>\n",
        "      <td> 0.000001</td>\n",
        "      <td> 0.000000</td>\n",
        "      <td> 1.137784e-06</td>\n",
        "    </tr>\n",
        "  </tbody>\n",
        "</table>\n",
        "</div>"
       ],
       "metadata": {},
       "output_type": "pyout",
       "prompt_number": 19,
       "text": [
        "             0         1         2         3         4             5   \\\n",
        "const  0.279716  0.000810  0.003141  0.000121 -0.000061 -7.493930e-05   \n",
        "rns    0.000810  0.000904 -0.000019  0.000211  0.000022  9.203449e-06   \n",
        "mrt    0.003141 -0.000019  0.000835  0.000036 -0.000012  3.744292e-07   \n",
        "smsa   0.000121  0.000211  0.000036  0.000717 -0.000005  2.502587e-06   \n",
        "med   -0.000061  0.000022 -0.000012 -0.000005  0.000019 -1.188961e-07   \n",
        "iq    -0.000075  0.000009  0.000000  0.000003 -0.000000  1.213835e-06   \n",
        "kww    0.000059 -0.000009 -0.000001 -0.000013 -0.000001 -4.505505e-07   \n",
        "age   -0.025100 -0.000198 -0.000233 -0.000029 -0.000003 -2.753694e-07   \n",
        "s      0.000648 -0.000003 -0.000004 -0.000014 -0.000007 -3.521554e-06   \n",
        "expr   0.000221  0.000008 -0.000019 -0.000017  0.000002 -1.097111e-07   \n",
        "age2   0.000544  0.000005  0.000004  0.000001  0.000000  3.223311e-08   \n",
        "\n",
        "             6         7         8         9             10  \n",
        "const  0.000059 -0.025100  0.000648  0.000221  5.437104e-04  \n",
        "rns   -0.000009 -0.000198 -0.000003  0.000008  4.763798e-06  \n",
        "mrt   -0.000001 -0.000233 -0.000004 -0.000019  3.531054e-06  \n",
        "smsa  -0.000013 -0.000029 -0.000014 -0.000017  8.356559e-07  \n",
        "med   -0.000001 -0.000003 -0.000007  0.000002  1.014981e-07  \n",
        "iq    -0.000000 -0.000000 -0.000004 -0.000000  3.223311e-08  \n",
        "kww    0.000004 -0.000009  0.000000  0.000001  1.152469e-07  \n",
        "age   -0.000009  0.002371 -0.000076 -0.000038 -5.151982e-05  \n",
        "s      0.000000 -0.000076  0.000062  0.000023  1.217821e-06  \n",
        "expr   0.000001 -0.000038  0.000023  0.000049  4.141766e-07  \n",
        "age2   0.000000 -0.000052  0.000001  0.000000  1.137784e-06  "
       ]
      }
     ],
     "prompt_number": 19
    },
    {
     "cell_type": "heading",
     "level": 1,
     "metadata": {},
     "source": [
      "Problem 2"
     ]
    },
    {
     "cell_type": "markdown",
     "metadata": {},
     "source": [
      "2A) I would expect b1 in y = b0 +b1*x1 + u to be 1 given the assumed DGP.  Ignoring x2 effectively creates a new error term z = x2 + u with Z~N(0,1+1=2).  See here for more information on the sum of normally distributed random variables: http://en.wikipedia.org/wiki/Sum_of_normally_distributed_random_variables"
     ]
    },
    {
     "cell_type": "code",
     "collapsed": false,
     "input": [
      "y, x1, x2, u = [], [], [], []\n",
      "for i in xrange(10000):\n",
      "    x1.append(random.gauss(0,1))\n",
      "    x2.append(random.gauss(0,1))\n",
      "    u.append(random.gauss(0,1))\n",
      "    y.append(1 + x1[i] + x2[i] + u[i])"
     ],
     "language": "python",
     "metadata": {},
     "outputs": [],
     "prompt_number": 20
    },
    {
     "cell_type": "code",
     "collapsed": false,
     "input": [
      "print x1[0:3], x2[0:3], u[0:3], y[0:3]"
     ],
     "language": "python",
     "metadata": {},
     "outputs": [
      {
       "output_type": "stream",
       "stream": "stdout",
       "text": [
        "[-0.8795387776583803, -1.5089132361445576, 1.192477535696474] [0.3863825329383086, 0.8521958983927735, -0.03954489850418938] [1.5350933070794068, -1.147117106790901, -0.3482524729472777] [2.0419370623593354, -0.803834444542685, 1.8046801642450068]\n"
       ]
      }
     ],
     "prompt_number": 21
    },
    {
     "cell_type": "code",
     "collapsed": false,
     "input": [
      "resultDGP = sm.OLS(y, sm.add_constant(x1)).fit()\n",
      "\n",
      "print resultDGP.summary()"
     ],
     "language": "python",
     "metadata": {},
     "outputs": [
      {
       "output_type": "stream",
       "stream": "stdout",
       "text": [
        "                            OLS Regression Results                            \n",
        "==============================================================================\n",
        "Dep. Variable:                      y   R-squared:                       0.336\n",
        "Model:                            OLS   Adj. R-squared:                  0.336\n",
        "Method:                 Least Squares   F-statistic:                     5059.\n",
        "Date:                Fri, 26 Sep 2014   Prob (F-statistic):               0.00\n",
        "Time:                        15:40:06   Log-Likelihood:                -17592.\n",
        "No. Observations:               10000   AIC:                         3.519e+04\n",
        "Df Residuals:                    9998   BIC:                         3.520e+04\n",
        "Df Model:                           1                                         \n",
        "==============================================================================\n",
        "                 coef    std err          t      P>|t|      [95.0% Conf. Int.]\n",
        "------------------------------------------------------------------------------\n",
        "const          0.9841      0.014     70.020      0.000         0.957     1.012\n",
        "x1             0.9964      0.014     71.129      0.000         0.969     1.024\n",
        "==============================================================================\n",
        "Omnibus:                        2.110   Durbin-Watson:                   2.009\n",
        "Prob(Omnibus):                  0.348   Jarque-Bera (JB):                2.138\n",
        "Skew:                           0.029   Prob(JB):                        0.343\n",
        "Kurtosis:                       2.959   Cond. No.                         1.01\n",
        "==============================================================================\n"
       ]
      }
     ],
     "prompt_number": 22
    },
    {
     "cell_type": "markdown",
     "metadata": {},
     "source": [
      "2B) The expected value of our predicted b1 shifts to .5*(true b1).  Some simple algerbra will help illuminate the logic here.  Our DGP yields y = 1 + (z+v) + (-z+w)+ u => y = 1 + v + w + u.  By the above logic, w gets folded into the error term.  And note our distribution for x1 becomes half as narrow by the same sum of two normal distributions logic so we expect b1 to 1/2."
     ]
    },
    {
     "cell_type": "code",
     "collapsed": false,
     "input": [
      "y, x1, x2, u = [], [], [], []\n",
      "for i in xrange(10000):\n",
      "    z, v, w = random.gauss(0,1), random.gauss(0,1), random.gauss(0,1)\n",
      "    x1.append(z+v)\n",
      "    x2.append(-z+w)\n",
      "    u.append(random.gauss(0,1))\n",
      "    y.append(1 + x1[i] + x2[i] + u[i])"
     ],
     "language": "python",
     "metadata": {},
     "outputs": [],
     "prompt_number": 23
    },
    {
     "cell_type": "code",
     "collapsed": false,
     "input": [
      "resultDGP = sm.OLS(y, sm.add_constant(x1)).fit()\n",
      "\n",
      "print resultDGP.summary()"
     ],
     "language": "python",
     "metadata": {},
     "outputs": [
      {
       "output_type": "stream",
       "stream": "stdout",
       "text": [
        "                            OLS Regression Results                            \n",
        "==============================================================================\n",
        "Dep. Variable:                      y   R-squared:                       0.159\n",
        "Model:                            OLS   Adj. R-squared:                  0.159\n",
        "Method:                 Least Squares   F-statistic:                     1889.\n",
        "Date:                Fri, 26 Sep 2014   Prob (F-statistic):               0.00\n",
        "Time:                        15:40:09   Log-Likelihood:                -18928.\n",
        "No. Observations:               10000   AIC:                         3.786e+04\n",
        "Df Residuals:                    9998   BIC:                         3.788e+04\n",
        "Df Model:                           1                                         \n",
        "==============================================================================\n",
        "                 coef    std err          t      P>|t|      [95.0% Conf. Int.]\n",
        "------------------------------------------------------------------------------\n",
        "const          1.0009      0.016     62.304      0.000         0.969     1.032\n",
        "x1             0.4930      0.011     43.466      0.000         0.471     0.515\n",
        "==============================================================================\n",
        "Omnibus:                        2.657   Durbin-Watson:                   1.988\n",
        "Prob(Omnibus):                  0.265   Jarque-Bera (JB):                2.666\n",
        "Skew:                           0.023   Prob(JB):                        0.264\n",
        "Kurtosis:                       3.065   Cond. No.                         1.42\n",
        "==============================================================================\n"
       ]
      }
     ],
     "prompt_number": 24
    },
    {
     "cell_type": "markdown",
     "metadata": {},
     "source": [
      "2C We could discuss the robustness of our data (was it experimental? random? a census?) and the quality of our methods (examining for instance the direction of error in omitted variables) to assuage their concerns.\n",
      "\n",
      "Ultimately, however, a sufficiently inclined skeptic might remain unconvinced no matter what explanation is offered.  In a deep sense, there's only one universe that we know and in that foundational sense N=1.  \n",
      "\n",
      "Yet there's always a tradeoff between bias and variance when making decisions about the world, regardless if we use statistics.  We can use simpler heuristics / statistics with higher bias but that are easier to generalize or more complex statistics that incorporate more of the variance (or nuance through including other potential factors) but the fact remains that there's a tradeoff to be made.  \n",
      "\n",
      "Wishing for perfect information through the inclusion of every possible relevant factor is to wish for a world without such tradeoffs.  Put directly, I would respond that we must deal with the world as it actually exists."
     ]
    },
    {
     "cell_type": "heading",
     "level": 1,
     "metadata": {},
     "source": [
      "Problem 3"
     ]
    },
    {
     "cell_type": "code",
     "collapsed": false,
     "input": [
      "union = pd.read_stata('union.dta')"
     ],
     "language": "python",
     "metadata": {},
     "outputs": [],
     "prompt_number": 25
    },
    {
     "cell_type": "code",
     "collapsed": false,
     "input": [
      "union.hist()\n",
      "plt.show()"
     ],
     "language": "python",
     "metadata": {},
     "outputs": [
      {
       "metadata": {},
       "output_type": "display_data",
       "png": "[encoded data removed]",
       "text": [
        "<matplotlib.figure.Figure at 0x16154fd0>"
       ]
      }
     ],
     "prompt_number": 26
    },
    {
     "cell_type": "heading",
     "level": 5,
     "metadata": {},
     "source": [
      "3b"
     ]
    },
    {
     "cell_type": "code",
     "collapsed": false,
     "input": [
      "train = union[union['year'] <= 78]\n",
      "test = union[union['year'] >= 80]"
     ],
     "language": "python",
     "metadata": {},
     "outputs": [],
     "prompt_number": 27
    },
    {
     "cell_type": "code",
     "collapsed": false,
     "input": [
      "model = sm.OLS(train['union'],sm.add_constant(train[['age','grade', 'smsa','south','black','year']]))\n",
      "result = model.fit()\n",
      "    \n",
      "print \"Simple OLS model on our training data set\"\n",
      "print result.summary()"
     ],
     "language": "python",
     "metadata": {},
     "outputs": [
      {
       "output_type": "stream",
       "stream": "stdout",
       "text": [
        "Simple OLS model on our training data set\n",
        "                            OLS Regression Results                            \n",
        "==============================================================================\n",
        "Dep. Variable:                  union   R-squared:                       0.043\n",
        "Model:                            OLS   Adj. R-squared:                  0.043\n",
        "Method:                 Least Squares   F-statistic:                     91.07\n",
        "Date:                Fri, 26 Sep 2014   Prob (F-statistic):          3.01e-112\n",
        "Time:                        15:40:18   Log-Likelihood:                -5943.8\n",
        "No. Observations:               12129   AIC:                         1.190e+04\n",
        "Df Residuals:                   12122   BIC:                         1.195e+04\n",
        "Df Model:                           6                                         \n",
        "==============================================================================\n",
        "                 coef    std err          t      P>|t|      [95.0% Conf. Int.]\n",
        "------------------------------------------------------------------------------\n",
        "const          0.2544      0.102      2.496      0.013         0.055     0.454\n",
        "age            0.0040      0.001      3.202      0.001         0.002     0.006\n",
        "grade          0.0098      0.002      5.894      0.000         0.007     0.013\n",
        "smsa           0.0106      0.008      1.276      0.202        -0.006     0.027\n",
        "south         -0.1514      0.008    -19.462      0.000        -0.167    -0.136\n",
        "black          0.1223      0.009     14.307      0.000         0.106     0.139\n",
        "year          -0.0034      0.002     -2.128      0.033        -0.007    -0.000\n",
        "==============================================================================\n",
        "Omnibus:                     2244.491   Durbin-Watson:                   2.002\n",
        "Prob(Omnibus):                  0.000   Jarque-Bera (JB):             3782.858\n",
        "Skew:                           1.367   Prob(JB):                         0.00\n",
        "Kurtosis:                       3.118   Cond. No.                     2.25e+03\n",
        "==============================================================================\n",
        "\n",
        "Warnings:\n",
        "[1] The condition number is large, 2.25e+03. This might indicate that there are\n",
        "strong multicollinearity or other numerical problems."
       ]
      },
      {
       "output_type": "stream",
       "stream": "stdout",
       "text": [
        "\n"
       ]
      }
     ],
     "prompt_number": 28
    },
    {
     "cell_type": "code",
     "collapsed": false,
     "input": [
      "logitModel = sm.Logit(train['union'],sm.add_constant(train[['age','grade', 'smsa','south','black','year']]))\n",
      "logitResult = logitModel.fit()\n",
      "    \n",
      "print \"Logit model on our training data set\"\n",
      "print logitResult.summary()"
     ],
     "language": "python",
     "metadata": {},
     "outputs": [
      {
       "output_type": "stream",
       "stream": "stdout",
       "text": [
        "Optimization terminated successfully.\n",
        "         Current function value: 0.484875\n",
        "         Iterations 6\n",
        "Logit model on our training data set\n",
        "                           Logit Regression Results                           \n",
        "==============================================================================\n",
        "Dep. Variable:                  union   No. Observations:                12129\n",
        "Model:                          Logit   Df Residuals:                    12122\n",
        "Method:                           MLE   Df Model:                            6\n",
        "Date:                Fri, 26 Sep 2014   Pseudo R-squ.:                 0.04445\n",
        "Time:                        15:40:19   Log-Likelihood:                -5881.1\n",
        "converged:                       True   LL-Null:                       -6154.6\n",
        "                                        LLR p-value:                5.877e-115\n",
        "==============================================================================\n",
        "                 coef    std err          z      P>|z|      [95.0% Conf. Int.]\n",
        "------------------------------------------------------------------------------\n",
        "const         -1.0693      0.654     -1.634      0.102        -2.352     0.213\n",
        "age            0.0254      0.008      3.178      0.001         0.010     0.041\n",
        "grade          0.0647      0.011      5.900      0.000         0.043     0.086\n",
        "smsa           0.0560      0.056      1.000      0.318        -0.054     0.166\n",
        "south         -1.0310      0.055    -18.729      0.000        -1.139    -0.923\n",
        "black          0.7772      0.054     14.394      0.000         0.671     0.883\n",
        "year          -0.0224      0.010     -2.176      0.030        -0.043    -0.002\n",
        "=============================================================================="
       ]
      },
      {
       "output_type": "stream",
       "stream": "stdout",
       "text": [
        "\n"
       ]
      }
     ],
     "prompt_number": 29
    },
    {
     "cell_type": "heading",
     "level": 5,
     "metadata": {},
     "source": [
      "3c"
     ]
    },
    {
     "cell_type": "code",
     "collapsed": false,
     "input": [
      "olsTestPredict = result.predict(sm.add_constant(test[['age','grade', 'smsa','south','black','year']]))\n",
      "logitTestPredict = logitResult.predict(sm.add_constant(test[['age','grade', 'smsa','south','black','year']]))"
     ],
     "language": "python",
     "metadata": {},
     "outputs": [],
     "prompt_number": 30
    },
    {
     "cell_type": "code",
     "collapsed": false,
     "input": [
      "test['yHatOLS'] = olsTestPredict\n",
      "test['yHatLogit'] = logitTestPredict"
     ],
     "language": "python",
     "metadata": {},
     "outputs": [],
     "prompt_number": 31
    },
    {
     "cell_type": "code",
     "collapsed": false,
     "input": [
      "test['unionOLS'] = test['yHatOLS'] >= .2\n",
      "test['unionLogit'] = test['yHatLogit'] >= .2"
     ],
     "language": "python",
     "metadata": {},
     "outputs": [],
     "prompt_number": 32
    },
    {
     "cell_type": "code",
     "collapsed": false,
     "input": [
      "test['unionOLS25'] = test['yHatOLS'] >= .25\n",
      "test['unionLogit25'] = test['yHatLogit'] >= .25"
     ],
     "language": "python",
     "metadata": {},
     "outputs": [],
     "prompt_number": 33
    },
    {
     "cell_type": "code",
     "collapsed": false,
     "input": [
      "print test['union'].sum()\n",
      "print test['unionOLS'].sum()\n",
      "print test['unionLogit'].sum()\n",
      "print test['unionOLS25'].sum()\n",
      "print test['unionLogit25'].sum()"
     ],
     "language": "python",
     "metadata": {},
     "outputs": [
      {
       "output_type": "stream",
       "stream": "stdout",
       "text": [
        "3323\n",
        "9217\n",
        "8230\n",
        "4308\n",
        "3749\n"
       ]
      }
     ],
     "prompt_number": 41
    },
    {
     "cell_type": "code",
     "collapsed": false,
     "input": [
      "twoDataTable = pd.DataFrame(['union ols .2 threshold','union logit .2 threshold'])\n",
      "twoDataTable['predicted'] = [test['unionOLS'].sum(),test['unionLogit'].sum()]\n",
      "twoDataTable['actual'] = [test['union'].sum(),test['union'].sum()]\n",
      "\n",
      "twoDataTable"
     ],
     "language": "python",
     "metadata": {},
     "outputs": [
      {
       "html": [
        "<div style=\"max-height:1000px;max-width:1500px;overflow:auto;\">\n",
        "<table border=\"1\" class=\"dataframe\">\n",
        "  <thead>\n",
        "    <tr style=\"text-align: right;\">\n",
        "      <th></th>\n",
        "      <th>0</th>\n",
        "      <th>predicted</th>\n",
        "      <th>actual</th>\n",
        "    </tr>\n",
        "  </thead>\n",
        "  <tbody>\n",
        "    <tr>\n",
        "      <th>0</th>\n",
        "      <td>   union ols .2</td>\n",
        "      <td> 9217</td>\n",
        "      <td> 3323</td>\n",
        "    </tr>\n",
        "    <tr>\n",
        "      <th>1</th>\n",
        "      <td> union logit .2</td>\n",
        "      <td> 8230</td>\n",
        "      <td> 3323</td>\n",
        "    </tr>\n",
        "  </tbody>\n",
        "</table>\n",
        "</div>"
       ],
       "metadata": {},
       "output_type": "pyout",
       "prompt_number": 54,
       "text": [
        "                0  predicted  actual\n",
        "0    union ols .2       9217    3323\n",
        "1  union logit .2       8230    3323"
       ]
      }
     ],
     "prompt_number": 54
    },
    {
     "cell_type": "code",
     "collapsed": false,
     "input": [
      "twoFiveDataTable = pd.DataFrame(['union ols .25 threshold','union logit .25 threshold'])\n",
      "twoFiveDataTable['predicted'] = [test['unionOLS25'].sum(),test['unionLogit25'].sum()]\n",
      "twoFiveDataTable['actual'] = [test['union'].sum(),test['union'].sum()]\n",
      "\n",
      "twoFiveDataTable "
     ],
     "language": "python",
     "metadata": {},
     "outputs": [
      {
       "html": [
        "<div style=\"max-height:1000px;max-width:1500px;overflow:auto;\">\n",
        "<table border=\"1\" class=\"dataframe\">\n",
        "  <thead>\n",
        "    <tr style=\"text-align: right;\">\n",
        "      <th></th>\n",
        "      <th>0</th>\n",
        "      <th>predicted</th>\n",
        "      <th>actual</th>\n",
        "    </tr>\n",
        "  </thead>\n",
        "  <tbody>\n",
        "    <tr>\n",
        "      <th>0</th>\n",
        "      <td>   union ols .25 threshold</td>\n",
        "      <td> 4308</td>\n",
        "      <td> 3323</td>\n",
        "    </tr>\n",
        "    <tr>\n",
        "      <th>1</th>\n",
        "      <td> union logit .25 threshold</td>\n",
        "      <td> 3749</td>\n",
        "      <td> 3323</td>\n",
        "    </tr>\n",
        "  </tbody>\n",
        "</table>\n",
        "</div>"
       ],
       "metadata": {},
       "output_type": "pyout",
       "prompt_number": 55,
       "text": [
        "                           0  predicted  actual\n",
        "0    union ols .25 threshold       4308    3323\n",
        "1  union logit .25 threshold       3749    3323"
       ]
      }
     ],
     "prompt_number": 55
    },
    {
     "cell_type": "code",
     "collapsed": false,
     "input": [],
     "language": "python",
     "metadata": {},
     "outputs": []
    }
   ],
   "metadata": {}
  }
 ]
}