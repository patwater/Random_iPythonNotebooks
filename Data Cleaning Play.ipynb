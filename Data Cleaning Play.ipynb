{
 "metadata": {
  "name": "",
  "signature": "sha256:b30360325e1b2f33c478160233954ccc6d392d036c4b118523e9658048d7c1e2"
 },
 "nbformat": 3,
 "nbformat_minor": 0,
 "worksheets": [
  {
   "cells": [
    {
     "cell_type": "code",
     "collapsed": false,
     "input": [
      "import sys, getopt"
     ],
     "language": "python",
     "metadata": {},
     "outputs": [],
     "prompt_number": 1
    },
    {
     "cell_type": "code",
     "collapsed": false,
     "input": [
      "with open('C:\\users\\patwater\\desktop\\drew_data.txt') as raw_file:\n",
      "\tdata = []\n",
      "\tfor line in raw_file:\n",
      "\t\tdata.append(line.split(\"|\"))\n",
      "\n",
      "print data"
     ],
     "language": "python",
     "metadata": {},
     "outputs": [
      {
       "output_type": "stream",
       "stream": "stdout",
       "text": [
        "[['1', '615291', '13335', '######', '#####', '', '', '', '#####', '###', '#####', '#######', '9688', '6/3/2014', '5/29/2014', '3/4/2014', '5/5/2014', '395.37', '', '.00', '.00', '.00', '.00', '395.37', '395.37', '16229', '', ' ', '0', '0', '10.31', '33', '33', '   ', '0', ' ', ' ', ' ', '\\n'], ['3', 'Sewer', '41.36', '.00', 'Sewer Usage Charge - CM4', '.880000', ' ', '47.0000', ' ', '162', '93-29', '33', '62\\n'], ['3', 'Sewer', '178.24', '.00', 'Basic Sewer Charge - CM4', '22.280000', ' ', '8.0000', ' ', '162', '93-29', '33', '62\\n'], ['3', 'Water Residential', '20.72', '.00', 'Basic Water Charge - CM4', '20.720000', ' ', '1.0000', ' ', '162', '93-29', '33', '62\\n'], ['3', 'Water Residential', '27.60', '.00', 'Conservation', '1.380000', ' ', '20.0000', ' ', '162', '93-29', '33', '62\\n'], ['3', 'Water Residential', '20.02', '.00', 'Efficient', '1.540000', ' ', '13.0000', ' ', '162', '93-29', '33', '62\\n'], ['3', 'Water Residential', '8.25', '.00', 'Inefficient', '2.750000', ' ', '3.0000', ' ', '162', '93-29', '33', '62\\n'], ['3', 'Water Residential', '22.04', '.00', 'Excessive', '5.51', ' ', '4.0000', ' ', '162', '93-29', '33', '62\\n'], ['3', 'Water Residential', '77.14', '.00', 'Wasteful', '11.02', ' ', '7.0000', ' ', '162', '93-29', '33', '62\\n'], ['4', '62054738', '13414746', '54617088', '9300178', '1', '#######', '2432', '3/4/2014', '5/5/2014', '2479', '0', 'CF', '47', '1\"', '47', '0', '34', '0', '29', '0', '29', '0', '37', '0', '34', '0', '27', '33', '0', '26', '0', '28', '0', '40', '0', '55', '0', '39', '0', '37', '', '62', '0', '29', '0', '28', '0', '28', '0', '28', '0', '28', '0', '29\\n'], ['5', '.00', '395.37', '61529113335395.3700001', '']]\n"
       ]
      }
     ],
     "prompt_number": 2
    },
    {
     "cell_type": "code",
     "collapsed": false,
     "input": [],
     "language": "python",
     "metadata": {},
     "outputs": []
    }
   ],
   "metadata": {}
  }
 ]
}