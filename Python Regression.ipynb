{
 "metadata": {
  "name": "",
  "signature": "sha256:228d26f5326293c03c5fdeefa42a1e9f28660b6635ff7659a13fa36410f17e59"
 },
 "nbformat": 3,
 "nbformat_minor": 0,
 "worksheets": [
  {
   "cells": [
    {
     "cell_type": "code",
     "collapsed": false,
     "input": [
      "import pandas\n",
      "data = pandas.read_csv(\"http://data.princeton.edu/wws509/datasets/salary.dat\", sep='\\s+')\n",
      "print data[0:10] # Look at the first 10 rows of data"
     ],
     "language": "python",
     "metadata": {},
     "outputs": [
      {
       "output_type": "stream",
       "stream": "stdout",
       "text": [
        "       sx    rk  yr         dg  yd     sl\n",
        "0    male  full  25  doctorate  35  36350\n",
        "1    male  full  13  doctorate  22  35350\n",
        "2    male  full  10  doctorate  23  28200\n",
        "3  female  full   7  doctorate  27  26775\n",
        "4    male  full  19    masters  30  33696\n",
        "5    male  full  16  doctorate  21  28516\n",
        "6  female  full   0    masters  32  24900\n",
        "7    male  full  16  doctorate  18  31909\n",
        "8    male  full  13    masters  30  31850\n",
        "9    male  full  13    masters  31  32850\n"
       ]
      }
     ],
     "prompt_number": 1
    },
    {
     "cell_type": "code",
     "collapsed": false,
     "input": [
      "from patsy import dmatrices\n",
      "# The '- 1' in the formula is to remove the intercept, which gets added back in later by sklearn.\n",
      "y, X = dmatrices('sl ~ sx + yr + rk - 1', data=data, return_type='dataframe')\n",
      "X.head()"
     ],
     "language": "python",
     "metadata": {},
     "outputs": [
      {
       "html": [
        "<div style=\"max-height:1000px;max-width:1500px;overflow:auto;\">\n",
        "<table border=\"1\" class=\"dataframe\">\n",
        "  <thead>\n",
        "    <tr style=\"text-align: right;\">\n",
        "      <th></th>\n",
        "      <th>sx[female]</th>\n",
        "      <th>sx[male]</th>\n",
        "      <th>rk[T.associate]</th>\n",
        "      <th>rk[T.full]</th>\n",
        "      <th>yr</th>\n",
        "    </tr>\n",
        "  </thead>\n",
        "  <tbody>\n",
        "    <tr>\n",
        "      <th>0</th>\n",
        "      <td> 0</td>\n",
        "      <td> 1</td>\n",
        "      <td> 0</td>\n",
        "      <td> 1</td>\n",
        "      <td> 25</td>\n",
        "    </tr>\n",
        "    <tr>\n",
        "      <th>1</th>\n",
        "      <td> 0</td>\n",
        "      <td> 1</td>\n",
        "      <td> 0</td>\n",
        "      <td> 1</td>\n",
        "      <td> 13</td>\n",
        "    </tr>\n",
        "    <tr>\n",
        "      <th>2</th>\n",
        "      <td> 0</td>\n",
        "      <td> 1</td>\n",
        "      <td> 0</td>\n",
        "      <td> 1</td>\n",
        "      <td> 10</td>\n",
        "    </tr>\n",
        "    <tr>\n",
        "      <th>3</th>\n",
        "      <td> 1</td>\n",
        "      <td> 0</td>\n",
        "      <td> 0</td>\n",
        "      <td> 1</td>\n",
        "      <td>  7</td>\n",
        "    </tr>\n",
        "    <tr>\n",
        "      <th>4</th>\n",
        "      <td> 0</td>\n",
        "      <td> 1</td>\n",
        "      <td> 0</td>\n",
        "      <td> 1</td>\n",
        "      <td> 19</td>\n",
        "    </tr>\n",
        "  </tbody>\n",
        "</table>\n",
        "</div>"
       ],
       "metadata": {},
       "output_type": "pyout",
       "prompt_number": 2,
       "text": [
        "   sx[female]  sx[male]  rk[T.associate]  rk[T.full]  yr\n",
        "0           0         1                0           1  25\n",
        "1           0         1                0           1  13\n",
        "2           0         1                0           1  10\n",
        "3           1         0                0           1   7\n",
        "4           0         1                0           1  19"
       ]
      }
     ],
     "prompt_number": 2
    },
    {
     "cell_type": "code",
     "collapsed": false,
     "input": [
      "from sklearn.linear_model import LinearRegression\n",
      "model = LinearRegression()\n",
      "model = model.fit(X,y)\n",
      "# Our header for X is:\n",
      "# sx[female]  sx[male]  rk[T.associate]  rk[T.full]  yr\n",
      "print model.coef_\n",
      "print model.intercept_"
     ],
     "language": "python",
     "metadata": {},
     "outputs": [
      {
       "output_type": "stream",
       "stream": "stdout",
       "text": [
        "[[  262.07460543  -262.07460543  4373.91539051  9483.84186941\n",
        "    390.93575731]]\n",
        "[ 16168.88707847]\n"
       ]
      }
     ],
     "prompt_number": 3
    },
    {
     "cell_type": "code",
     "collapsed": false,
     "input": [
      "print model.score(X,y) # R^2 value"
     ],
     "language": "python",
     "metadata": {},
     "outputs": [
      {
       "output_type": "stream",
       "stream": "stdout",
       "text": [
        "0.84617601349\n"
       ]
      }
     ],
     "prompt_number": 4
    },
    {
     "cell_type": "code",
     "collapsed": false,
     "input": [
      "print model.predict([0,1,0,0,4])"
     ],
     "language": "python",
     "metadata": {},
     "outputs": [
      {
       "output_type": "stream",
       "stream": "stdout",
       "text": [
        "[ 17470.55550229]\n"
       ]
      }
     ],
     "prompt_number": 5
    },
    {
     "cell_type": "code",
     "collapsed": false,
     "input": [],
     "language": "python",
     "metadata": {},
     "outputs": []
    }
   ],
   "metadata": {}
  }
 ]
}