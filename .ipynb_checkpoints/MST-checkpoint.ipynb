{
 "metadata": {
  "name": "",
  "signature": "sha256:ee0df766d52ff10ad2de6d3f7d81d573eb00d37755e431457a11d43d71b15ac1"
 },
 "nbformat": 3,
 "nbformat_minor": 0,
 "worksheets": [
  {
   "cells": [
    {
     "cell_type": "code",
     "collapsed": false,
     "input": [
      "import sys, getopt\n",
      "import random\n",
      "import networkx as nx\n",
      "import matplotlib.pyplot as plt\n",
      "\n",
      "with open('tiny.txt') as raw_file:\n",
      "\tdata = []\n",
      "\tfor line in raw_file:\n",
      "\t\tdata.append(line.split())\n",
      "        \n",
      "        \n",
      "vertices = data[0]\n",
      "edges = data[1]\n",
      "network = data[2:]\n",
      "\n",
      "print max(data[2:])\n",
      "print vertices, edges\n",
      "print data"
     ],
     "language": "python",
     "metadata": {},
     "outputs": []
    },
    {
     "cell_type": "code",
     "collapsed": false,
     "input": [
      "\n",
      "G=nx.Graph()\n",
      "\n",
      "#for each point in\n",
      "#add each[0],each[1],weight=each[2]\n",
      "\n",
      "for point in network:\n",
      "    G.add_edge(point[0],point[1],weight=point[2])\n",
      "    \n",
      "elarge=[(u,v) for (u,v,d) in G.edges(data=True) if d['weight'] >0.3]\n",
      "esmall=[(u,v) for (u,v,d) in G.edges(data=True) if d['weight'] <=0.3]\n",
      "\n",
      "pos=nx.spring_layout(G) # positions for all nodes\n",
      "\n",
      "# nodes\n",
      "nx.draw_networkx_nodes(G,pos,node_size=700)\n",
      "\n",
      "# edges\n",
      "nx.draw_networkx_edges(G,pos,edgelist=elarge,\n",
      "                    width=6)\n",
      "nx.draw_networkx_edges(G,pos,edgelist=esmall,\n",
      "                    width=6,alpha=0.5,edge_color='b',style='dashed')\n",
      "\n",
      "# labels\n",
      "nx.draw_networkx_labels(G,pos,font_size=20,font_family='sans-serif')\n",
      "\n",
      "plt.axis('off')\n",
      "plt.savefig(\"weighted_graph.png\") # save as png\n",
      "plt.show() # display"
     ],
     "language": "python",
     "metadata": {},
     "outputs": []
    },
    {
     "cell_type": "code",
     "collapsed": false,
     "input": [],
     "language": "python",
     "metadata": {},
     "outputs": []
    }
   ],
   "metadata": {}
  }
 ]
}