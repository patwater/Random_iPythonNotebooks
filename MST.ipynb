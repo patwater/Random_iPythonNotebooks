{
 "metadata": {
  "name": "",
  "signature": "sha256:07d5b271c06c9e8a57493f918b3585a10007b842812c2ad3455b9dd51a08ad90"
 },
 "nbformat": 3,
 "nbformat_minor": 0,
 "worksheets": [
  {
   "cells": [
    {
     "cell_type": "code",
     "collapsed": false,
     "input": [
      "import sys, getopt\n",
      "import random\n",
      "import networkx as nx\n",
      "import matplotlib.pyplot as plt\n",
      "\n",
      "with open('tiny.txt') as raw_file:\n",
      "\tdata = []\n",
      "\tfor line in raw_file:\n",
      "\t\tdata.append(line.split())\n",
      "        \n",
      "        \n",
      "vertices = data[0]\n",
      "edges = data[1]\n",
      "network = data[2:]\n",
      "\n",
      "print max(data[2:])\n",
      "print vertices, edges\n",
      "print data"
     ],
     "language": "python",
     "metadata": {},
     "outputs": [
      {
       "ename": "IOError",
       "evalue": "[Errno 2] No such file or directory: 'tiny.txt'",
       "output_type": "pyerr",
       "traceback": [
        "\u001b[1;31m---------------------------------------------------------------------------\u001b[0m\n\u001b[1;31mIOError\u001b[0m                                   Traceback (most recent call last)",
        "\u001b[1;32m<ipython-input-1-16eb50f72156>\u001b[0m in \u001b[0;36m<module>\u001b[1;34m()\u001b[0m\n\u001b[0;32m      4\u001b[0m \u001b[1;32mimport\u001b[0m \u001b[0mmatplotlib\u001b[0m\u001b[1;33m.\u001b[0m\u001b[0mpyplot\u001b[0m \u001b[1;32mas\u001b[0m \u001b[0mplt\u001b[0m\u001b[1;33m\u001b[0m\u001b[0m\n\u001b[0;32m      5\u001b[0m \u001b[1;33m\u001b[0m\u001b[0m\n\u001b[1;32m----> 6\u001b[1;33m \u001b[1;32mwith\u001b[0m \u001b[0mopen\u001b[0m\u001b[1;33m(\u001b[0m\u001b[1;34m'tiny.txt'\u001b[0m\u001b[1;33m)\u001b[0m \u001b[1;32mas\u001b[0m \u001b[0mraw_file\u001b[0m\u001b[1;33m:\u001b[0m\u001b[1;33m\u001b[0m\u001b[0m\n\u001b[0m\u001b[0;32m      7\u001b[0m         \u001b[0mdata\u001b[0m \u001b[1;33m=\u001b[0m \u001b[1;33m[\u001b[0m\u001b[1;33m]\u001b[0m\u001b[1;33m\u001b[0m\u001b[0m\n\u001b[0;32m      8\u001b[0m         \u001b[1;32mfor\u001b[0m \u001b[0mline\u001b[0m \u001b[1;32min\u001b[0m \u001b[0mraw_file\u001b[0m\u001b[1;33m:\u001b[0m\u001b[1;33m\u001b[0m\u001b[0m\n",
        "\u001b[1;31mIOError\u001b[0m: [Errno 2] No such file or directory: 'tiny.txt'"
       ]
      }
     ],
     "prompt_number": 1
    },
    {
     "cell_type": "code",
     "collapsed": false,
     "input": [
      "\n",
      "G=nx.Graph()\n",
      "\n",
      "#for each point in\n",
      "#add each[0],each[1],weight=each[2]\n",
      "\n",
      "for point in network:\n",
      "    G.add_edge(point[0],point[1],weight=point[2])\n",
      "    \n",
      "elarge=[(u,v) for (u,v,d) in G.edges(data=True) if d['weight'] >0.3]\n",
      "esmall=[(u,v) for (u,v,d) in G.edges(data=True) if d['weight'] <=0.3]\n",
      "\n",
      "pos=nx.spring_layout(G) # positions for all nodes\n",
      "\n",
      "# nodes\n",
      "nx.draw_networkx_nodes(G,pos,node_size=700)\n",
      "\n",
      "# edges\n",
      "nx.draw_networkx_edges(G,pos,edgelist=elarge,\n",
      "                    width=6)\n",
      "nx.draw_networkx_edges(G,pos,edgelist=esmall,\n",
      "                    width=6,alpha=0.5,edge_color='b',style='dashed')\n",
      "\n",
      "# labels\n",
      "nx.draw_networkx_labels(G,pos,font_size=20,font_family='sans-serif')\n",
      "\n",
      "plt.axis('off')\n",
      "plt.savefig(\"weighted_graph.png\") # save as png\n",
      "plt.show() # display"
     ],
     "language": "python",
     "metadata": {},
     "outputs": []
    },
    {
     "cell_type": "code",
     "collapsed": false,
     "input": [],
     "language": "python",
     "metadata": {},
     "outputs": []
    }
   ],
   "metadata": {}
  }
 ]
}